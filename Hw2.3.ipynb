{
 "cells": [
  {
   "cell_type": "code",
   "execution_count": 2,
   "metadata": {},
   "outputs": [
    {
     "name": "stdout",
     "output_type": "stream",
     "text": [
      "                                                Name  \\\n",
      "0                      10-Day Green Smoothie Cleanse   \n",
      "1                                  11/22/63: A Novel   \n",
      "2            12 Rules for Life: An Antidote to Chaos   \n",
      "3                             1984 (Signet Classics)   \n",
      "4  5,000 Awesome Facts (About Everything!) (Natio...   \n",
      "\n",
      "                     Author  User Rating  Reviews  Price  Year        Genre  \n",
      "0                  JJ Smith          4.7    17350      8  2016  Non Fiction  \n",
      "1              Stephen King          4.6     2052     22  2011      Fiction  \n",
      "2        Jordan B. Peterson          4.7    18979     15  2018  Non Fiction  \n",
      "3             George Orwell          4.7    21424      6  2017      Fiction  \n",
      "4  National Geographic Kids          4.8     7665     12  2019  Non Fiction  \n",
      "Dataset dimensions: (550, 7)\n",
      "Number of books in the dataset: 550\n"
     ]
    }
   ],
   "source": [
    "import pandas as pd\n",
    "\n",
    "# 1. Read the CSV file into a DataFrame\n",
    "df = pd.read_csv(\"Hw2.3.csv\")\n",
    "\n",
    "# 2. Display the first five rows of the DataFrame\n",
    "print(\"1. First five rows of the DataFrame:\")\n",
    "print(df.head())\n",
    "\n",
    "# 3. Display the dimensions of the dataset\n",
    "print(\"\\n2. Dataset dimensions:\", df.shape)\n",
    "\n",
    "# 4. Change column names to snake_case\n",
    "df.columns = ['name', 'author', 'user_rating', 'reviews', 'price', 'year', 'genre']\n",
    "\n",
    "# 5. Check for missing values\n",
    "print(\"\\n3. Are there any missing values?\")\n",
    "print(df.isna().sum())\n",
    "\n",
    "# 6. Check unique values in the genre column\n",
    "print(\"\\n4. Unique genres:\", df['genre'].unique())\n",
    "\n",
    "# 7. Distribution of prices\n",
    "print(\"\\n5. Distribution of Prices:\")\n",
    "df['price'].plot(kind='hist', bins=20, title='Distribution of Prices')\n",
    "\n",
    "# 8. Summary statistics of prices\n",
    "print(\"\\n6. Summary statistics of prices:\")\n",
    "print(\"Maximum price:\", df['price'].max())\n",
    "print(\"Minimum price:\", df['price'].min())\n",
    "print(\"Mean price:\", df['price'].mean())\n",
    "print(\"Median price:\", df['price'].median())\n",
    "\n",
    "# 9. Highest rating\n",
    "max_rating = df['user_rating'].max()\n",
    "print(\"\\n7. Highest rating:\", max_rating)\n",
    "print(\"8. Number of books with the highest rating:\", df[df['user_rating'] == max_rating].shape[0])\n"
   ]
  }
 ],
 "metadata": {
  "kernelspec": {
   "display_name": "Python 3",
   "language": "python",
   "name": "python3"
  },
  "language_info": {
   "codemirror_mode": {
    "name": "ipython",
    "version": 3
   },
   "file_extension": ".py",
   "mimetype": "text/x-python",
   "name": "python",
   "nbconvert_exporter": "python",
   "pygments_lexer": "ipython3",
   "version": "3.12.1"
  }
 },
 "nbformat": 4,
 "nbformat_minor": 2
}
