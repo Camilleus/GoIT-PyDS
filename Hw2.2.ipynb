{
 "cells": [
  {
   "cell_type": "code",
   "execution_count": null,
   "metadata": {},
   "outputs": [],
   "source": [
    "import pandas as pd\n",
    "\n",
    "# Step 1: Read the CSV File\n",
    "url = \"https://drive.google.com/uc?id=1JMYqXipZpz9Y5-vyxvLEO2Y1sRBxqu-U\"\n",
    "data = pd.read_csv(url)\n",
    "\n",
    "# Step 2: Display the First Few Rows\n",
    "print(\"First few rows of the DataFrame:\")\n",
    "print(data.head())\n",
    "\n",
    "# Step 3: Define the DataFrame Shape\n",
    "print(\"\\nDataFrame shape:\")\n",
    "print(data.shape)\n",
    "\n",
    "# Step 4: Define Column Types\n",
    "print(\"\\nColumn types:\")\n",
    "print(data.dtypes)\n",
    "\n",
    "# Step 5: Calculate Proportion of Missing Values\n",
    "print(\"\\nProportion of missing values in each column:\")\n",
    "print(data.isnull().sum() / len(data))\n",
    "\n",
    "# Step 6: Remove Columns with Spaces\n",
    "data = data.dropna(axis=1, how='all')\n",
    "\n",
    "# Step 7: Recalculate Proportion of Missing Values\n",
    "print(\"\\nProportion of missing values in each column after removing columns with spaces:\")\n",
    "print(data.isnull().sum() / len(data))\n",
    "\n",
    "# Step 8: Remove Rows with Missing Values\n",
    "data = data.dropna()\n",
    "\n",
    "# Step 9: Define the New DataFrame Shape\n",
    "print(\"\\nDataFrame shape after removing rows with missing values:\")\n",
    "print(data.shape)\n",
    "\n",
    "# Step 10: Create a New DataFrame for Python Specialists\n",
    "python_data = data[data['Język programowania'] == 'Python']\n",
    "\n",
    "# Step 11: Define the Shape of the Python Data DataFrame\n",
    "print(\"\\nShape of the python_data DataFrame:\")\n",
    "print(python_data.shape)\n",
    "\n",
    "# Step 12: Group by \"Stanowisko\" Column\n",
    "grouped_data = data.groupby('Stanowisko')\n",
    "\n",
    "# Step 13: Aggregate Data by \"Wynagrodzenie.za.miesiąc\" Column\n",
    "aggregated_data = grouped_data.agg({'Wynagrodzenie.za.miesiąc': ['min', 'max']})"
   ]
  }
 ],
 "metadata": {
  "language_info": {
   "name": "python"
  }
 },
 "nbformat": 4,
 "nbformat_minor": 2
}
