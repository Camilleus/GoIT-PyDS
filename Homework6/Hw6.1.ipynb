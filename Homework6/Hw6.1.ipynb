{
 "cells": [
  {
   "cell_type": "markdown",
   "metadata": {},
   "source": [
    "Zadanie 1"
   ]
  },
  {
   "cell_type": "code",
   "execution_count": null,
   "metadata": {
    "vscode": {
     "languageId": "plaintext"
    }
   },
   "outputs": [],
   "source": [
    "import pandas as pd\n",
    "import matplotlib.pyplot as plt\n",
    "from sklearn.cluster import KMeans\n",
    "\n",
    "\n",
    "data_2d = pd.read_csv(\"data_2d.csv\")\n",
    "\n",
    "mnist = pd.read_csv(\"mnist.csv\")\n",
    "\n",
    "\n",
    "sse_2d = []\n",
    "for k in range(1, 15):\n",
    "    kmeans_2d = KMeans(n_clusters=k, random_state=42)\n",
    "    kmeans_2d.fit(data_2d)\n",
    "    sse_2d.append(kmeans_2d.inertia_)\n",
    "\n",
    "\n",
    "sse_mnist = []\n",
    "for k in range(1, 15):\n",
    "    kmeans_mnist = KMeans(n_clusters=k, random_state=42)\n",
    "    kmeans_mnist.fit(mnist)\n",
    "    sse_mnist.append(kmeans_mnist.inertia_)\n",
    "\n",
    "\n"
   ]
  }
 ],
 "metadata": {
  "language_info": {
   "name": "python"
  }
 },
 "nbformat": 4,
 "nbformat_minor": 2
}
