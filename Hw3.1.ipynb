{
 "cells": [
  {
   "cell_type": "code",
   "execution_count": 1,
   "metadata": {},
   "outputs": [
    {
     "name": "stdout",
     "output_type": "stream",
     "text": [
      "[ 8 13 18]\n"
     ]
    }
   ],
   "source": [
    "import numpy as np\n",
    "\n",
    "def linear_regression_hypothesis(theta, X):\n",
    "    \"\"\"\n",
    "    Linear regression hypothesis function.\n",
    "    \n",
    "    Parameters:\n",
    "    theta : array_like\n",
    "        Vector of parameters (coefficients).\n",
    "    X : array_like\n",
    "        Feature matrix, where each row represents one observation and each column represents one feature.\n",
    "    \n",
    "    Returns:\n",
    "    array_like\n",
    "        Vector of values predicted by the model.\n",
    "    \"\"\"\n",
    "    return np.dot(X, theta)\n",
    "\n",
    "\n",
    "# Sample data\n",
    "theta = np.array([2, 3])  # Parameter vector\n",
    "X = np.array([[1, 2],    # Feature matrix\n",
    "              [2, 3],\n",
    "              [3, 4]])\n",
    "\n",
    "# Compute predicted values\n",
    "predicted_values = linear_regression_hypothesis(theta, X)\n",
    "print(predicted_values)\n"
   ]
  },
  {
   "cell_type": "code",
   "execution_count": null,
   "metadata": {},
   "outputs": [],
   "source": [
    "import numpy as np\n",
    "\n",
    "def compute_loss(theta, X, y):\n",
    "    \"\"\"\n",
    "    Compute the loss function for linear regression.\n",
    "    \n",
    "    Parameters:\n",
    "    theta : array_like\n",
    "        Vector of parameters (coefficients).\n",
    "    X : array_like\n",
    "        Feature matrix, where each row represents one observation and each column represents one feature.\n",
    "    y : array_like\n",
    "        Vector of target values.\n",
    "    \n",
    "    Returns:\n",
    "    float\n",
    "        Value of the loss function.\n",
    "    \"\"\"\n",
    "    m = len(y)  # Number of training examples\n",
    "    h = np.dot(X, theta)  # Compute predictions\n",
    "    squared_errors = (h - y) ** 2  # Compute squared errors\n",
    "    loss = (1 / (2 * m)) * np.sum(squared_errors)  # Compute loss\n",
    "    return loss\n",
    "\n",
    "\n",
    "\n",
    "# Sample data\n",
    "theta = np.array([2, 3])  # Parameter vector\n",
    "X = np.array([[1, 2],    # Feature matrix\n",
    "              [2, 3],\n",
    "              [3, 4]])\n",
    "y = np.array([5, 7, 9])  # Target vector\n",
    "\n",
    "# Compute loss\n",
    "loss = compute_loss(theta, X, y)\n",
    "print(loss)\n"
   ]
  }
 ],
 "metadata": {
  "kernelspec": {
   "display_name": "Python 3",
   "language": "python",
   "name": "python3"
  },
  "language_info": {
   "codemirror_mode": {
    "name": "ipython",
    "version": 3
   },
   "file_extension": ".py",
   "mimetype": "text/x-python",
   "name": "python",
   "nbconvert_exporter": "python",
   "pygments_lexer": "ipython3",
   "version": "3.12.1"
  }
 },
 "nbformat": 4,
 "nbformat_minor": 2
}
