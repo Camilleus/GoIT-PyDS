{
 "cells": [
  {
   "cell_type": "markdown",
   "metadata": {},
   "source": [
    "Zadanie 1"
   ]
  },
  {
   "cell_type": "code",
   "execution_count": 1,
   "metadata": {},
   "outputs": [],
   "source": [
    "import pandas as pd\n",
    "import matplotlib.pyplot as plt\n",
    "from sklearn.cluster import KMeans\n",
    "\n",
    "\n",
    "data_2d = pd.read_csv(\"data_2d.csv\")\n",
    "\n",
    "mnist = pd.read_csv(\"mnist.csv\")\n",
    "\n",
    "\n",
    "sse_2d = []\n",
    "for k in range(1, 15):\n",
    "    kmeans_2d = KMeans(n_clusters=k, random_state=42)\n",
    "    kmeans_2d.fit(data_2d)\n",
    "    sse_2d.append(kmeans_2d.inertia_)\n",
    "\n",
    "\n",
    "sse_mnist = []\n",
    "for k in range(1, 15):\n",
    "    kmeans_mnist = KMeans(n_clusters=k, random_state=42)\n",
    "    kmeans_mnist.fit(mnist)\n",
    "    sse_mnist.append(kmeans_mnist.inertia_)\n",
    "\n",
    "\n",
    "plt.figure(figsize=(12, 6))\n",
    "plt.subplot(1, 2, 1)\n",
    "plt.plot(range(1, 15), sse_2d, marker='o')\n",
    "plt.title('Metoda łokciowa dla danych 2D')\n",
    "plt.xlabel('Liczba klastrów')\n",
    "plt.ylabel('Suma kwadratów odległości')\n",
    "plt.subplot(1, 2, 2)\n",
    "plt.plot(range(1, 15), sse_mnist, marker='o')\n",
    "plt.title('Metoda łokciowa dla danych MNIST')\n",
    "plt.xlabel('Liczba klastrów')\n",
    "plt.ylabel('Suma kwadratów odległości')\n",
    "plt.tight_layout()\n",
    "plt.show()"
   ]
  }
 ],
 "metadata": {
  "kernelspec": {
   "display_name": "Python 3",
   "language": "python",
   "name": "python3"
  },
  "language_info": {
   "codemirror_mode": {
    "name": "ipython",
    "version": 3
   },
   "file_extension": ".py",
   "mimetype": "text/x-python",
   "name": "python",
   "nbconvert_exporter": "python",
   "pygments_lexer": "ipython3",
   "version": "3.12.1"
  }
 },
 "nbformat": 4,
 "nbformat_minor": 2
}
