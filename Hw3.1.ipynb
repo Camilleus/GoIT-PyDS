{
 "cells": [
  {
   "cell_type": "code",
   "execution_count": 1,
   "metadata": {},
   "outputs": [
    {
     "name": "stdout",
     "output_type": "stream",
     "text": [
      "[ 8 13 18]\n"
     ]
    }
   ],
   "source": [
    "import numpy as np\n",
    "\n",
    "def linear_regression_hypothesis(theta, X):\n",
    "    \"\"\"\n",
    "    Linear regression hypothesis function.\n",
    "    \n",
    "    Parameters:\n",
    "    theta : array_like\n",
    "        Vector of parameters (coefficients).\n",
    "    X : array_like\n",
    "        Feature matrix, where each row represents one observation and each column represents one feature.\n",
    "    \n",
    "    Returns:\n",
    "    array_like\n",
    "        Vector of values predicted by the model.\n",
    "    \"\"\"\n",
    "    return np.dot(X, theta)\n",
    "\n",
    "\n",
    "# Sample data\n",
    "theta = np.array([2, 3])  # Parameter vector\n",
    "X = np.array([[1, 2],    # Feature matrix\n",
    "              [2, 3],\n",
    "              [3, 4]])\n",
    "\n",
    "# Compute predicted values\n",
    "predicted_values = linear_regression_hypothesis(theta, X)\n",
    "print(predicted_values)\n"
   ]
  },
  {
   "cell_type": "code",
   "execution_count": 2,
   "metadata": {},
   "outputs": [
    {
     "name": "stdout",
     "output_type": "stream",
     "text": [
      "21.0\n"
     ]
    }
   ],
   "source": [
    "import numpy as np\n",
    "\n",
    "def compute_loss(theta, X, y):\n",
    "    \"\"\"\n",
    "    Compute the loss function for linear regression.\n",
    "    \n",
    "    Parameters:\n",
    "    theta : array_like\n",
    "        Vector of parameters (coefficients).\n",
    "    X : array_like\n",
    "        Feature matrix, where each row represents one observation and each column represents one feature.\n",
    "    y : array_like\n",
    "        Vector of target values.\n",
    "    \n",
    "    Returns:\n",
    "    float\n",
    "        Value of the loss function.\n",
    "    \"\"\"\n",
    "    m = len(y)  # Number of training examples\n",
    "    h = np.dot(X, theta)  # Compute predictions\n",
    "    squared_errors = (h - y) ** 2  # Compute squared errors\n",
    "    loss = (1 / (2 * m)) * np.sum(squared_errors)  # Compute loss\n",
    "    return loss\n",
    "\n",
    "\n",
    "\n",
    "# Sample data\n",
    "theta = np.array([2, 3])  # Parameter vector\n",
    "X = np.array([[1, 2],    # Feature matrix\n",
    "              [2, 3],\n",
    "              [3, 4]])\n",
    "y = np.array([5, 7, 9])  # Target vector\n",
    "\n",
    "# Compute loss\n",
    "loss = compute_loss(theta, X, y)\n",
    "print(loss)\n"
   ]
  },
  {
   "cell_type": "code",
   "execution_count": 6,
   "metadata": {},
   "outputs": [
    {
     "name": "stdout",
     "output_type": "stream",
     "text": [
      "[0.15333333 0.22333333]\n"
     ]
    }
   ],
   "source": [
    "import numpy as np\n",
    "\n",
    "def gradient_descent_step(theta, X, y, learning_rate):\n",
    "    \"\"\"\n",
    "    Perform one step of gradient descent.\n",
    "    \n",
    "    Parameters:\n",
    "    theta : array_like\n",
    "        Vector of parameters (coefficients).\n",
    "    X : array_like\n",
    "        Feature matrix, where each row represents one observation and each column represents one feature.\n",
    "    y : array_like\n",
    "        Vector of target values.\n",
    "    learning_rate : float\n",
    "        Learning rate (step size) for gradient descent.\n",
    "    \n",
    "    Returns:\n",
    "    array_like\n",
    "        Updated parameter vector after one step of gradient descent.\n",
    "    \"\"\"\n",
    "    m = len(y)  # Number of training examples\n",
    "    h = np.dot(X, theta)  # Compute predictions\n",
    "    gradient = (1 / m) * np.dot(X.T, (h - y))  # Compute gradient\n",
    "    theta = theta - learning_rate * gradient  # Update parameters (ensure same dtype)\n",
    "    return theta\n",
    "\n",
    "\n",
    "# Sample data\n",
    "theta = np.array([0, 0], dtype=float)  # Initial parameter vector (use float dtype)\n",
    "X = np.array([[1, 2],    # Feature matrix\n",
    "              [2, 3],\n",
    "              [3, 4]])\n",
    "y = np.array([5, 7, 9], dtype=float)  # Target vector (use float dtype)\n",
    "learning_rate = 0.01  # Learning rate\n",
    "\n",
    "# Perform one step of gradient descent\n",
    "updated_theta = gradient_descent_step(theta, X, y, learning_rate)\n",
    "print(updated_theta)\n"
   ]
  },
  {
   "cell_type": "code",
   "execution_count": 10,
   "metadata": {},
   "outputs": [
    {
     "ename": "ModuleNotFoundError",
     "evalue": "No module named 'sklearn'",
     "output_type": "error",
     "traceback": [
      "\u001b[1;31m---------------------------------------------------------------------------\u001b[0m",
      "\u001b[1;31mModuleNotFoundError\u001b[0m                       Traceback (most recent call last)",
      "Cell \u001b[1;32mIn[10], line 3\u001b[0m\n\u001b[0;32m      1\u001b[0m \u001b[38;5;28;01mimport\u001b[39;00m \u001b[38;5;21;01mpandas\u001b[39;00m \u001b[38;5;28;01mas\u001b[39;00m \u001b[38;5;21;01mpd\u001b[39;00m\n\u001b[0;32m      2\u001b[0m \u001b[38;5;28;01mimport\u001b[39;00m \u001b[38;5;21;01mnumpy\u001b[39;00m \u001b[38;5;28;01mas\u001b[39;00m \u001b[38;5;21;01mnp\u001b[39;00m\n\u001b[1;32m----> 3\u001b[0m \u001b[38;5;28;01mfrom\u001b[39;00m \u001b[38;5;21;01msklearn\u001b[39;00m\u001b[38;5;21;01m.\u001b[39;00m\u001b[38;5;21;01mpreprocessing\u001b[39;00m \u001b[38;5;28;01mimport\u001b[39;00m StandardScaler\n\u001b[0;32m      5\u001b[0m \u001b[38;5;66;03m# Step 1: Load the data\u001b[39;00m\n\u001b[0;32m      6\u001b[0m data_url \u001b[38;5;241m=\u001b[39m \u001b[38;5;124m\"\u001b[39m\u001b[38;5;124mhttps://drive.google.com/uc?id=1-rAa4XT4_fI0dOBlMNuE6a7jB0wln_Qo\u001b[39m\u001b[38;5;124m\"\u001b[39m\n",
      "\u001b[1;31mModuleNotFoundError\u001b[0m: No module named 'sklearn'"
     ]
    }
   ],
   "source": [
    "import pandas as pd\n",
    "import numpy as np\n",
    "from sklearn.preprocessing import StandardScaler\n",
    "\n",
    "# Step 1: Load the data\n",
    "data_url = \"https://drive.google.com/uc?id=1-rAa4XT4_fI0dOBlMNuE6a7jB0wln_Qo\"\n",
    "data = pd.read_csv(data_url)\n",
    "\n",
    "# Step 2: Preprocess the data (Normalize features)\n",
    "scaler = StandardScaler()\n",
    "features = ['area', 'bedrooms', 'bathrooms']\n",
    "data[features] = scaler.fit_transform(data[features])\n",
    "\n",
    "# Step 3: Feature selection\n",
    "target = 'price'\n",
    "\n",
    "# Step 4: Add bias term\n",
    "data['bias'] = 1\n",
    "features_with_bias = ['bias'] + features\n",
    "\n",
    "# Step 5: Initialize parameters\n",
    "theta = np.zeros(len(features_with_bias))\n",
    "\n",
    "# Step 6: Define the cost function (loss function)\n",
    "def compute_loss(theta, X, y):\n",
    "    m = len(y)\n",
    "    h = np.dot(X, theta)\n",
    "    squared_errors = (h - y) ** 2\n",
    "    loss = (1 / (2 * m)) * np.sum(squared_errors)\n",
    "    return loss\n",
    "\n",
    "# Step 7: Gradient Descent\n",
    "def gradient_descent(theta, X, y, learning_rate, num_iterations):\n",
    "    m = len(y)\n",
    "    losses = []\n",
    "    for i in range(num_iterations):\n",
    "        h = np.dot(X, theta)\n",
    "        gradient = (1 / m) * np.dot(X.T, (h - y))\n",
    "        theta -= learning_rate * gradient\n",
    "        loss = compute_loss(theta, X, y)\n",
    "        losses.append(loss)\n",
    "    return theta, losses\n",
    "\n",
    "# Step 8: Tune hyperparameters\n",
    "learning_rate = 0.01\n",
    "num_iterations = 1000\n",
    "\n",
    "# Step 9: Train the model\n",
    "X = data[features_with_bias].values\n",
    "y = data[target].values\n",
    "theta, losses = gradient_descent(theta, X, y, learning_rate, num_iterations)\n",
    "\n",
    "# Step 10: Evaluate model\n",
    "final_loss = losses[-1]\n",
    "print(\"Final Loss:\", final_loss)\n",
    "print(\"Optimal Parameters:\", theta)\n"
   ]
  }
 ],
 "metadata": {
  "kernelspec": {
   "display_name": "Python 3",
   "language": "python",
   "name": "python3"
  },
  "language_info": {
   "codemirror_mode": {
    "name": "ipython",
    "version": 3
   },
   "file_extension": ".py",
   "mimetype": "text/x-python",
   "name": "python",
   "nbconvert_exporter": "python",
   "pygments_lexer": "ipython3",
   "version": "3.12.1"
  }
 },
 "nbformat": 4,
 "nbformat_minor": 2
}
