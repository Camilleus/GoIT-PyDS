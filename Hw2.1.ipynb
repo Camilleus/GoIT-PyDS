{
 "cells": [
  {
   "cell_type": "code",
   "execution_count": 1,
   "metadata": {},
   "outputs": [
    {
     "name": "stdout",
     "output_type": "stream",
     "text": [
      "First few rows of the table:\n",
      "                      Birth rate Unnamed: 1 Unnamed: 2 Unnamed: 3 Unnamed: 4  \\\n",
      "0                            NaN        NaN        NaN        NaN        NaN   \n",
      "1                           Year       1860       1896       1906       1913   \n",
      "2     Number of births, thousand          —          —          —    ~1500,0   \n",
      "3  Birth rate per 1000 people, ‰      ~50,0      ~47,5      ~44,0      ~40,0   \n",
      "4         Birth rate per 1 woman          —          —          —      ~6,00   \n",
      "\n",
      "  Unnamed: 5 Unnamed: 6 Unnamed: 7 Unnamed: 8 Unnamed: 9  ... Unnamed: 12  \\\n",
      "0        NaN        NaN        NaN        NaN        NaN  ...         NaN   \n",
      "1       1925       1940       1950       1955       1960  ...        1975   \n",
      "2    ~1400,0    ~1100,0      841,4      790,1      870,6  ...       738,1   \n",
      "3      ~38,0       27,3       22,8       20,0       20,5  ...        15,1   \n",
      "4       5,39          —       2,81          —       2,24  ...           —   \n",
      "\n",
      "  Unnamed: 13 Unnamed: 14 Unnamed: 15 Unnamed: 16 Unnamed: 17 Unnamed: 18  \\\n",
      "0         NaN         NaN         NaN         NaN         NaN         NaN   \n",
      "1        1980        1985        1990        1995        2000        2005   \n",
      "2       740,6       764,2       657,2       492,9       385,1       428,3   \n",
      "3        14,8        15,0        12,7         9,6         7,8         9,0   \n",
      "4        1,95           —        1,85        1,40        1,12        1,21   \n",
      "\n",
      "  Unnamed: 19 Unnamed: 20 Unnamed: 21  \n",
      "0         NaN         NaN         NaN  \n",
      "1        2010        2015        2020  \n",
      "2       497,7       411,8       293,4  \n",
      "3        15,2        10,7         8,1  \n",
      "4        1,44        1,51        1,22  \n",
      "\n",
      "[5 rows x 22 columns]\n"
     ]
    }
   ],
   "source": [
    "import pandas as pd\n",
    "import matplotlib.pyplot as plt\n",
    "\n",
    "# Step 1: Read Data from Google Sheets\n",
    "url = \"https://docs.google.com/spreadsheets/d/1MIZG2h_ioZIrZ-3VzbATlkuQ0cmpFmqFGo3bgrPNFP4/export?format=csv\"\n",
    "data = pd.read_csv(url)\n",
    "\n",
    "# Step 2: Display First Rows\n",
    "print(\"First few rows of the table:\")\n",
    "print(data.head())\n",
    "\n",
    "# Step 3: Define Number of Rows and Columns\n",
    "num_rows, num_columns = data.shape\n",
    "print(f\"\\nNumber of rows: {num_rows}, Number of columns: {num_columns}\")\n",
    "\n",
    "# Step 4: Replace \"—\" with NaN\n",
    "data.replace(\"—\", pd.NA, inplace=True)\n",
    "\n",
    "# Step 5: Define Column Types\n",
    "print(\"\\nColumn types:\")\n",
    "print(data.dtypes)\n",
    "\n",
    "# Step 6: Change Non-Numeric Columns to Numeric\n",
    "non_numeric_columns = data.columns[data.dtypes == object]\n",
    "data[non_numeric_columns] = data[non_numeric_columns].apply(pd.to_numeric, errors=\"coerce\")\n",
    "\n",
    "# Step 7: Calculate Proportion of Missing Values\n",
    "missing_proportion = data.isnull().sum() / len(data)\n",
    "print(\"\\nProportion of missing values in each column:\")\n",
    "print(missing_proportion)\n",
    "\n",
    "# Step 8: Remove Data for the Entire Country (Last row)\n",
    "data.drop(index=data.index[-1], inplace=True)\n",
    "\n",
    "# Step 9: Replace Missing Data with Column Means\n",
    "data.fillna(data.mean(), inplace=True)"
   ]
  }
 ],
 "metadata": {
  "kernelspec": {
   "display_name": "Python 3",
   "language": "python",
   "name": "python3"
  },
  "language_info": {
   "codemirror_mode": {
    "name": "ipython",
    "version": 3
   },
   "file_extension": ".py",
   "mimetype": "text/x-python",
   "name": "python",
   "nbconvert_exporter": "python",
   "pygments_lexer": "ipython3",
   "version": "3.12.1"
  }
 },
 "nbformat": 4,
 "nbformat_minor": 2
}
