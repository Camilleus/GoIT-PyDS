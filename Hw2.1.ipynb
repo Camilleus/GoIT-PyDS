{
 "cells": [
  {
   "cell_type": "code",
   "execution_count": null,
   "metadata": {},
   "outputs": [],
   "source": [
    "import pandas as pd\n",
    "import matplotlib.pyplot as plt\n",
    "\n",
    "# Step 1: Read Data from Google Sheets\n",
    "url = \"https://docs.google.com/spreadsheets/d/1MIZG2h_ioZIrZ-3VzbATlkuQ0cmpFmqFGo3bgrPNFP4/export?format=csv\"\n",
    "data = pd.read_csv(url)"
   ]
  }
 ],
 "metadata": {
  "language_info": {
   "name": "python"
  }
 },
 "nbformat": 4,
 "nbformat_minor": 2
}
