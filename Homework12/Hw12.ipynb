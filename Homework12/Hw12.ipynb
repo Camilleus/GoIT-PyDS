{
 "cells": [
  {
   "cell_type": "markdown",
   "metadata": {},
   "source": [
    "Ostatnia, 12, praca domowa, finally"
   ]
  },
  {
   "cell_type": "code",
   "execution_count": null,
   "metadata": {},
   "outputs": [],
   "source": [
    "import spacy\n",
    "import nltk\n",
    "from nltk.corpus import stopwords\n",
    "from nltk.tokenize import word_tokenize, sent_tokenize\n",
    "\n",
    "nlp = spacy.load('en_core_web_sm')\n"
   ]
  },
  {
   "cell_type": "code",
   "execution_count": null,
   "metadata": {},
   "outputs": [],
   "source": [
    "# Tekst do przetworzenia\n",
    "tekst = \"To jest przykładowe zdanie do tokenizacji i lematyzacji.\"\n",
    "# Tokenizacja\n",
    "doc = nlp(tekst)\n",
    "tokens = [token.text for token in doc]\n",
    "print(tokens)\n",
    "\n",
    "tokens = word_tokenize(tekst)\n",
    "zdania = sent_tokenize(tekst)\n",
    "stop_words = set(stopwords.words('english'))\n",
    "znaki_interpunkcyjne = znaki_interpunkcyjne + '\\\\\\\\n'\n",
    "\n"
   ]
  },
  {
   "cell_type": "code",
   "execution_count": null,
   "metadata": {},
   "outputs": [],
   "source": [
    "czestotliwosc_slow = {}\n",
    "for slowo in doc:\n",
    "  if slowo.text.lower() not in stop_words:\n",
    "    if slowo.text.lower() not in znaki_interpunkcyjne:\n",
    "      if slowo.text not in czestotliwosc_slow.keys():\n",
    "        czestotliwosc_slow[slowo.text] = 1\n",
    "      else:\n",
    "        czestotliwosc_slow[slowo.text] += 1\n",
    "        \n",
    "\n"
   ]
  },
  {
   "cell_type": "code",
   "execution_count": null,
   "metadata": {},
   "outputs": [],
   "source": [
    "from heapq import nlargest\n",
    "\n",
    "\n",
    "dlugosc_wyboru = int(len(tokeny_zdan))\n",
    "podsumowanie = nlargest(dlugosc_wyboru, oceny_zdan, key=oceny_zdan.get)\n",
    "podsumowanie\n"
   ]
  }
 ],
 "metadata": {
  "kernelspec": {
   "display_name": "Python 3",
   "language": "python",
   "name": "python3"
  },
  "language_info": {
   "codemirror_mode": {
    "name": "ipython",
    "version": 3
   },
   "file_extension": ".py",
   "mimetype": "text/x-python",
   "name": "python",
   "nbconvert_exporter": "python",
   "pygments_lexer": "ipython3",
   "version": "3.12.1"
  }
 },
 "nbformat": 4,
 "nbformat_minor": 2
}
