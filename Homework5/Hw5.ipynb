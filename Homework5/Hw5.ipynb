{
 "cells": [
  {
   "cell_type": "code",
   "execution_count": 7,
   "metadata": {},
   "outputs": [],
   "source": [
    "import pandas as pd\n",
    "import os \n",
    "\n",
    "directory = 'data/'\n",
    "\n",
    "data_frames = []\n",
    "\n",
    "for category in os.listdir(directory):\n",
    "    category_path = os.path.join(directory, category)\n",
    "    if os.path.isdir(category_path):\n",
    "\n",
    "        csv_files = [file for file in os.listdir(category_path) if file.endswith('.csv')]\n",
    "\n",
    "        for file in csv_files:\n",
    "            file_path = os.path.join(category_path, file)\n",
    "            df = pd.read_csv(file_path)\n",
    "            data_frames.append(df)\n",
    "            \n",
    "combined_df = pd.concat(data_frames, ignore_index=True)"
   ]
  }
 ],
 "metadata": {
  "kernelspec": {
   "display_name": "Python 3",
   "language": "python",
   "name": "python3"
  },
  "language_info": {
   "codemirror_mode": {
    "name": "ipython",
    "version": 3
   },
   "file_extension": ".py",
   "mimetype": "text/x-python",
   "name": "python",
   "nbconvert_exporter": "python",
   "pygments_lexer": "ipython3",
   "version": "3.12.1"
  }
 },
 "nbformat": 4,
 "nbformat_minor": 2
}
