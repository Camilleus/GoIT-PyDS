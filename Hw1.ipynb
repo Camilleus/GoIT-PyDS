{
 "cells": [
  {
   "cell_type": "code",
   "execution_count": 12,
   "metadata": {},
   "outputs": [
    {
     "name": "stdout",
     "output_type": "stream",
     "text": [
      "First rows of the table:\n",
      "    Rok Średnia populacja (w tys.)  Urodzenia    Zgony Przyrost naturalny  \\\n",
      "0  1921                     27 150    890 000  568 000            322 000   \n",
      "1  1922                     27 860    983 000  555 000            428 000   \n",
      "2  1923                     28 210  1 015 000  494 000            521 000   \n",
      "3  1924                     28 550  1 000 000  519 000            481 000   \n",
      "4  1925                     29 290  1 037 000  492 000            545 000   \n",
      "\n",
      "   Współczynnik urodzeń (na 1000)  Współczynnik zgonów (na 1000)  \\\n",
      "0                           328.0                          209.0   \n",
      "1                           353.0                          199.0   \n",
      "2                           360.0                          175.0   \n",
      "3                           350.0                          182.0   \n",
      "4                           354.0                          168.0   \n",
      "\n",
      "  Przyrost naturalny (na 1000) Populacja (w tys., stan na 31.12.)  \\\n",
      "0                          119                                NaN   \n",
      "1                          154                                NaN   \n",
      "2                          185                                NaN   \n",
      "3                          168                                NaN   \n",
      "4                          186                                NaN   \n",
      "\n",
      "  Urodzenia żywe Zgony ogółem  Współ. urodzeń żywych (na 1000)  \\\n",
      "0            NaN          NaN                              NaN   \n",
      "1            NaN          NaN                              NaN   \n",
      "2            NaN          NaN                              NaN   \n",
      "3            NaN          NaN                              NaN   \n",
      "4            NaN          NaN                              NaN   \n",
      "\n",
      "   Współ. zgonów (na 1000) Dzietność Imigracja Emigracja Saldo Migracji  \n",
      "0                      NaN       NaN       NaN       NaN            NaN  \n",
      "1                      NaN       NaN       NaN       NaN            NaN  \n",
      "2                      NaN       NaN       NaN       NaN            NaN  \n",
      "3                      NaN       NaN       NaN       NaN            NaN  \n",
      "4                      NaN       NaN       NaN       NaN            NaN  \n"
     ]
    }
   ],
   "source": [
    "import pandas as pd\n",
    "\n",
    "# Read data from the table using the read_html method\n",
    "url = \"https://pl.wikipedia.org/wiki/Demografia_Polski\"\n",
    "tables = pd.read_html(url)\n",
    "\n",
    "# Display the first rows of the table using the head method\n",
    "if len(tables) > 0:\n",
    "    the_first_table = tables[5]\n",
    "    the_second_table = tables[6]\n",
    "    print(\"First rows of the table:\")\n",
    "    big_table = pd.concat([the_first_table, the_second_table], axis=0)\n",
    "    print(big_table.head())\n",
    "else:\n",
    "    print(\"Table not found on the page.\")\n"
   ]
  }
 ],
 "metadata": {
  "kernelspec": {
   "display_name": "Python 3",
   "language": "python",
   "name": "python3"
  },
  "language_info": {
   "codemirror_mode": {
    "name": "ipython",
    "version": 3
   },
   "file_extension": ".py",
   "mimetype": "text/x-python",
   "name": "python",
   "nbconvert_exporter": "python",
   "pygments_lexer": "ipython3",
   "version": "3.12.1"
  }
 },
 "nbformat": 4,
 "nbformat_minor": 2
}
