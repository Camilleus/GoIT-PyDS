{
 "cells": [
  {
   "cell_type": "code",
   "execution_count": 1,
   "metadata": {},
   "outputs": [
    {
     "name": "stdout",
     "output_type": "stream",
     "text": [
      "Array with the first 10 positive integers:\n",
      "[ 1  2  3  4  5  6  7  8  9 10]\n"
     ]
    }
   ],
   "source": [
    "import numpy as np\n",
    "\n",
    "# Create a one-dimensional array (vector) with the first 10 positive integers\n",
    "vector = np.arange(1, 11)\n",
    "\n",
    "# Display the values of the vector\n",
    "print(\"Array with the first 10 positive integers:\")\n",
    "print(vector)\n"
   ]
  },
  {
   "cell_type": "code",
   "execution_count": 2,
   "metadata": {},
   "outputs": [
    {
     "name": "stdout",
     "output_type": "stream",
     "text": [
      "Matrix filled with zeros:\n",
      "[[0. 0. 0.]\n",
      " [0. 0. 0.]\n",
      " [0. 0. 0.]]\n"
     ]
    }
   ],
   "source": [
    "import numpy as np\n",
    "\n",
    "# Create a two-dimensional array (matrix) of size 3x3 filled with zeros\n",
    "matrix = np.zeros((3, 3))\n",
    "\n",
    "# Display the values of the matrix\n",
    "print(\"Matrix filled with zeros:\")\n",
    "print(matrix)\n"
   ]
  },
  {
   "cell_type": "code",
   "execution_count": 3,
   "metadata": {},
   "outputs": [
    {
     "name": "stdout",
     "output_type": "stream",
     "text": [
      "Array filled with random integers ranging from 1 to 10:\n",
      "[[10  6  8  7  4]\n",
      " [ 1  3  9  9  8]\n",
      " [ 7 10  5  8  3]\n",
      " [ 6  4  6  7  6]\n",
      " [ 9  8  4  7  3]]\n"
     ]
    }
   ],
   "source": [
    "import numpy as np\n",
    "\n",
    "# Create a 5x5 array filled with random integers ranging from 1 to 10\n",
    "array = np.random.randint(1, 11, size=(5, 5))\n",
    "\n",
    "# Display the values of the array\n",
    "print(\"Array filled with random integers ranging from 1 to 10:\")\n",
    "print(array)\n"
   ]
  },
  {
   "cell_type": "code",
   "execution_count": 4,
   "metadata": {},
   "outputs": [
    {
     "name": "stdout",
     "output_type": "stream",
     "text": [
      "Array filled with random floating-point numbers ranging from 0 to 1:\n",
      "[[0.90250284 0.48718957 0.85363652 0.21367507]\n",
      " [0.183426   0.41443948 0.28136561 0.57549801]\n",
      " [0.83642906 0.49106879 0.39637309 0.39260018]\n",
      " [0.51211005 0.63389038 0.20758773 0.01906882]]\n"
     ]
    }
   ],
   "source": [
    "import numpy as np\n",
    "\n",
    "# Create a 4x4 array filled with random floating-point numbers ranging from 0 to 1\n",
    "array = np.random.rand(4, 4)\n",
    "\n",
    "# Display the values of the array\n",
    "print(\"Array filled with random floating-point numbers ranging from 0 to 1:\")\n",
    "print(array)\n"
   ]
  },
  {
   "cell_type": "code",
   "execution_count": 5,
   "metadata": {},
   "outputs": [
    {
     "name": "stdout",
     "output_type": "stream",
     "text": [
      "Array 1 filled with random integers ranging from 1 to 10:\n",
      "[5 9 9 5 9]\n",
      "\n",
      "Array 2 filled with random integers ranging from 1 to 10:\n",
      "[2 9 8 5 7]\n",
      "\n",
      "Addition of the two arrays:\n",
      "[ 7 18 17 10 16]\n",
      "\n",
      "Subtraction of the two arrays:\n",
      "[3 0 1 0 2]\n",
      "\n",
      "Multiplication of the two arrays:\n",
      "[10 81 72 25 63]\n"
     ]
    }
   ],
   "source": [
    "import numpy as np\n",
    "\n",
    "# Create two one-dimensional arrays of size 5 filled with random integers ranging from 1 to 10\n",
    "array1 = np.random.randint(1, 11, size=5)\n",
    "array2 = np.random.randint(1, 11, size=5)\n",
    "\n",
    "# Display the values of the arrays\n",
    "print(\"Array 1 filled with random integers ranging from 1 to 10:\")\n",
    "print(array1)\n",
    "print(\"\\nArray 2 filled with random integers ranging from 1 to 10:\")\n",
    "print(array2)\n",
    "\n",
    "# Perform addition, subtraction, and multiplication operations on the arrays\n",
    "addition = array1 + array2\n",
    "subtraction = array1 - array2\n",
    "multiplication = array1 * array2\n",
    "\n",
    "# Display the results of the operations\n",
    "print(\"\\nAddition of the two arrays:\")\n",
    "print(addition)\n",
    "print(\"\\nSubtraction of the two arrays:\")\n",
    "print(subtraction)\n",
    "print(\"\\nMultiplication of the two arrays:\")\n",
    "print(multiplication)\n"
   ]
  },
  {
   "cell_type": "code",
   "execution_count": 6,
   "metadata": {},
   "outputs": [
    {
     "name": "stdout",
     "output_type": "stream",
     "text": [
      "Vector 1 filled with random numbers:\n",
      "[0.83058126 0.79469029 0.83186931 0.22000734 0.5548954  0.01901672\n",
      " 0.90180089]\n",
      "\n",
      "Vector 2 filled with random numbers:\n",
      "[0.35741352 0.47149295 0.76067772 0.42940488 0.61310738 0.8294748\n",
      " 0.42306637]\n",
      "\n",
      "Dot product of the two vectors:\n",
      "2.1363145081621697\n"
     ]
    }
   ],
   "source": [
    "import numpy as np\n",
    "\n",
    "# Create two vectors of size 7 filled with random numbers\n",
    "vector1 = np.random.rand(7)\n",
    "vector2 = np.random.rand(7)\n",
    "\n",
    "# Display the values of the vectors\n",
    "print(\"Vector 1 filled with random numbers:\")\n",
    "print(vector1)\n",
    "print(\"\\nVector 2 filled with random numbers:\")\n",
    "print(vector2)\n",
    "\n",
    "# Calculate the dot product (scalar product) of the vectors\n",
    "dot_product = np.dot(vector1, vector2)\n",
    "\n",
    "# Display the dot product of the vectors\n",
    "print(\"\\nDot product of the two vectors:\")\n",
    "print(dot_product)\n"
   ]
  },
  {
   "cell_type": "code",
   "execution_count": 7,
   "metadata": {},
   "outputs": [
    {
     "name": "stdout",
     "output_type": "stream",
     "text": [
      "Matrix 1 filled with random integers ranging from 1 to 10:\n",
      "[[8 3]\n",
      " [9 3]]\n",
      "\n",
      "Matrix 2 filled with random integers ranging from 1 to 10:\n",
      "[[ 4  9  7]\n",
      " [ 7 10  7]]\n",
      "\n",
      "Product of the two matrices:\n",
      "[[ 53 102  77]\n",
      " [ 57 111  84]]\n"
     ]
    }
   ],
   "source": [
    "import numpy as np\n",
    "\n",
    "# Create two matrices of sizes 2x2 and 2x3 filled with random integers ranging from 1 to 10\n",
    "matrix1 = np.random.randint(1, 11, size=(2, 2))\n",
    "matrix2 = np.random.randint(1, 11, size=(2, 3))\n",
    "\n",
    "# Display the values of the matrices\n",
    "print(\"Matrix 1 filled with random integers ranging from 1 to 10:\")\n",
    "print(matrix1)\n",
    "print(\"\\nMatrix 2 filled with random integers ranging from 1 to 10:\")\n",
    "print(matrix2)\n",
    "\n",
    "# Multiply the matrices\n",
    "product = np.dot(matrix1, matrix2)\n",
    "\n",
    "# Display the product of the matrices\n",
    "print(\"\\nProduct of the two matrices:\")\n",
    "print(product)\n"
   ]
  },
  {
   "cell_type": "code",
   "execution_count": 8,
   "metadata": {},
   "outputs": [
    {
     "name": "stdout",
     "output_type": "stream",
     "text": [
      "Matrix filled with random integers ranging from 1 to 10:\n",
      "[[ 2 10  7]\n",
      " [ 5  6 10]\n",
      " [ 2  1  8]]\n",
      "\n",
      "Inverse of the matrix:\n",
      "[[-0.21965318  0.42196532 -0.33526012]\n",
      " [ 0.11560694 -0.01156069 -0.0867052 ]\n",
      " [ 0.04046243 -0.10404624  0.21965318]]\n"
     ]
    }
   ],
   "source": [
    "import numpy as np\n",
    "\n",
    "# Create a 3x3 matrix filled with random integers ranging from 1 to 10\n",
    "matrix = np.random.randint(1, 11, size=(3, 3))\n",
    "\n",
    "# Display the values of the matrix\n",
    "print(\"Matrix filled with random integers ranging from 1 to 10:\")\n",
    "print(matrix)\n",
    "\n",
    "# Calculate the inverse of the matrix\n",
    "try:\n",
    "    inverse_matrix = np.linalg.inv(matrix)\n",
    "    print(\"\\nInverse of the matrix:\")\n",
    "    print(inverse_matrix)\n",
    "except np.linalg.LinAlgError:\n",
    "    print(\"\\nMatrix is singular and its inverse cannot be computed.\")\n"
   ]
  },
  {
   "cell_type": "code",
   "execution_count": 9,
   "metadata": {},
   "outputs": [
    {
     "name": "stdout",
     "output_type": "stream",
     "text": [
      "Matrix filled with random floating-point numbers ranging from 0 to 1:\n",
      "[[0.24054644 0.26231083 0.35989759 0.40099116]\n",
      " [0.01387667 0.53490645 0.18558687 0.0932072 ]\n",
      " [0.56537936 0.53042838 0.50830643 0.89020515]\n",
      " [0.13506619 0.88510354 0.00622224 0.22562064]]\n",
      "\n",
      "Transposed matrix:\n",
      "[[0.24054644 0.01387667 0.56537936 0.13506619]\n",
      " [0.26231083 0.53490645 0.53042838 0.88510354]\n",
      " [0.35989759 0.18558687 0.50830643 0.00622224]\n",
      " [0.40099116 0.0932072  0.89020515 0.22562064]]\n"
     ]
    }
   ],
   "source": [
    "import numpy as np\n",
    "\n",
    "# Create a 4x4 matrix filled with random floating-point numbers ranging from 0 to 1\n",
    "matrix = np.random.rand(4, 4)\n",
    "\n",
    "# Display the values of the matrix\n",
    "print(\"Matrix filled with random floating-point numbers ranging from 0 to 1:\")\n",
    "print(matrix)\n",
    "\n",
    "# Transpose the matrix\n",
    "transposed_matrix = np.transpose(matrix)\n",
    "\n",
    "# Display the transposed matrix\n",
    "print(\"\\nTransposed matrix:\")\n",
    "print(transposed_matrix)\n"
   ]
  },
  {
   "cell_type": "code",
   "execution_count": 10,
   "metadata": {},
   "outputs": [
    {
     "name": "stdout",
     "output_type": "stream",
     "text": [
      "Matrix:\n",
      "[[ 3  6 10  5]\n",
      " [ 7  9  8  9]\n",
      " [ 3  9  8  1]]\n",
      "\n",
      "Vector:\n",
      "[6 6 1 3]\n",
      "\n",
      "Result of multiplying the matrix by the vector:\n",
      "[ 79 131  83]\n"
     ]
    }
   ],
   "source": [
    "import numpy as np\n",
    "\n",
    "# Create a 3x4 matrix filled with random integers ranging from 1 to 10\n",
    "matrix = np.random.randint(1, 11, size=(3, 4))\n",
    "\n",
    "# Create a vector of size 4 filled with random integers ranging from 1 to 10\n",
    "vector = np.random.randint(1, 11, size=4)\n",
    "\n",
    "# Display the values of the matrix and vector\n",
    "print(\"Matrix:\")\n",
    "print(matrix)\n",
    "print(\"\\nVector:\")\n",
    "print(vector)\n",
    "\n",
    "# Multiply the matrix by the vector\n",
    "result = np.dot(matrix, vector)\n",
    "\n",
    "# Display the result\n",
    "print(\"\\nResult of multiplying the matrix by the vector:\")\n",
    "print(result)\n"
   ]
  },
  {
   "cell_type": "code",
   "execution_count": 11,
   "metadata": {},
   "outputs": [
    {
     "name": "stdout",
     "output_type": "stream",
     "text": [
      "Matrix:\n",
      "[[0.31588698 0.67060104 0.66117743]\n",
      " [0.11295169 0.04256315 0.49135695]]\n",
      "\n",
      "Vector:\n",
      "[0.92675016 0.17693391 0.94100974]\n",
      "\n",
      "Result of multiplying the matrix by the vector:\n",
      "[1.03357477 0.57458054]\n"
     ]
    }
   ],
   "source": [
    "import numpy as np\n",
    "\n",
    "# Create a 2x3 matrix filled with random floating-point numbers ranging from 0 to 1\n",
    "matrix = np.random.rand(2, 3)\n",
    "\n",
    "# Create a vector of size 3 filled with random floating-point numbers ranging from 0 to 1\n",
    "vector = np.random.rand(3)\n",
    "\n",
    "# Display the values of the matrix and vector\n",
    "print(\"Matrix:\")\n",
    "print(matrix)\n",
    "print(\"\\nVector:\")\n",
    "print(vector)\n",
    "\n",
    "# Multiply the matrix by the vector\n",
    "result = np.dot(matrix, vector)\n",
    "\n",
    "# Display the result\n",
    "print(\"\\nResult of multiplying the matrix by the vector:\")\n",
    "print(result)\n"
   ]
  },
  {
   "cell_type": "code",
   "execution_count": 12,
   "metadata": {},
   "outputs": [
    {
     "name": "stdout",
     "output_type": "stream",
     "text": [
      "Matrix 1:\n",
      "[[ 1  7]\n",
      " [10  8]]\n",
      "\n",
      "Matrix 2:\n",
      "[[1 1]\n",
      " [7 2]]\n",
      "\n",
      "Element-wise multiplication of the two matrices:\n",
      "[[ 1  7]\n",
      " [70 16]]\n"
     ]
    }
   ],
   "source": [
    "import numpy as np\n",
    "\n",
    "# Create two 2x2 matrices filled with random integers ranging from 1 to 10\n",
    "matrix1 = np.random.randint(1, 11, size=(2, 2))\n",
    "matrix2 = np.random.randint(1, 11, size=(2, 2))\n",
    "\n",
    "# Display the values of the matrices\n",
    "print(\"Matrix 1:\")\n",
    "print(matrix1)\n",
    "print(\"\\nMatrix 2:\")\n",
    "print(matrix2)\n",
    "\n",
    "# Perform element-wise multiplication of the matrices (Hadamard product)\n",
    "element_wise_product = np.multiply(matrix1, matrix2)\n",
    "\n",
    "# Display the result of element-wise multiplication\n",
    "print(\"\\nElement-wise multiplication of the two matrices:\")\n",
    "print(element_wise_product)\n"
   ]
  },
  {
   "cell_type": "code",
   "execution_count": 13,
   "metadata": {},
   "outputs": [
    {
     "name": "stdout",
     "output_type": "stream",
     "text": [
      "Matrix 1:\n",
      "[[2 8]\n",
      " [3 5]]\n",
      "\n",
      "Matrix 2:\n",
      "[[ 2  2]\n",
      " [ 6 10]]\n",
      "\n",
      "Matrix product of the two matrices:\n",
      "[[52 84]\n",
      " [36 56]]\n"
     ]
    }
   ],
   "source": [
    "import numpy as np\n",
    "\n",
    "# Create two 2x2 matrices filled with random integers ranging from 1 to 10\n",
    "matrix1 = np.random.randint(1, 11, size=(2, 2))\n",
    "matrix2 = np.random.randint(1, 11, size=(2, 2))\n",
    "\n",
    "# Display the values of the matrices\n",
    "print(\"Matrix 1:\")\n",
    "print(matrix1)\n",
    "print(\"\\nMatrix 2:\")\n",
    "print(matrix2)\n",
    "\n",
    "# Perform matrix multiplication\n",
    "matrix_product = np.dot(matrix1, matrix2)\n",
    "\n",
    "# Display the result of matrix multiplication\n",
    "print(\"\\nMatrix product of the two matrices:\")\n",
    "print(matrix_product)\n"
   ]
  },
  {
   "cell_type": "code",
   "execution_count": 14,
   "metadata": {},
   "outputs": [
    {
     "name": "stdout",
     "output_type": "stream",
     "text": [
      "Matrix:\n",
      "[[26 41 96 14  9]\n",
      " [46 19 31 76  5]\n",
      " [67 55 20  1 89]\n",
      " [67 74  1 83 86]\n",
      " [71 11 77 76 81]]\n",
      "\n",
      "Sum of the elements of the matrix: 1222\n"
     ]
    }
   ],
   "source": [
    "import numpy as np\n",
    "\n",
    "# Create a 5x5 matrix filled with random integers ranging from 1 to 100\n",
    "matrix = np.random.randint(1, 101, size=(5, 5))\n",
    "\n",
    "# Display the values of the matrix\n",
    "print(\"Matrix:\")\n",
    "print(matrix)\n",
    "\n",
    "# Calculate the sum of the elements of the matrix\n",
    "matrix_sum = np.sum(matrix)\n",
    "\n",
    "# Display the sum of the elements of the matrix\n",
    "print(\"\\nSum of the elements of the matrix:\", matrix_sum)\n"
   ]
  },
  {
   "cell_type": "code",
   "execution_count": 15,
   "metadata": {},
   "outputs": [
    {
     "name": "stdout",
     "output_type": "stream",
     "text": [
      "Matrix 1:\n",
      "[[2 7 9 6]\n",
      " [3 3 5 8]\n",
      " [3 9 7 4]\n",
      " [2 3 2 3]]\n",
      "\n",
      "Matrix 2:\n",
      "[[10  6  3  5]\n",
      " [10  7  7  1]\n",
      " [ 9  7  6  2]\n",
      " [ 6  4  8  6]]\n",
      "\n",
      "Difference between the two matrices:\n",
      "[[-8  1  6  1]\n",
      " [-7 -4 -2  7]\n",
      " [-6  2  1  2]\n",
      " [-4 -1 -6 -3]]\n"
     ]
    }
   ],
   "source": [
    "import numpy as np\n",
    "\n",
    "# Create two 4x4 matrices filled with random integers ranging from 1 to 10\n",
    "matrix1 = np.random.randint(1, 11, size=(4, 4))\n",
    "matrix2 = np.random.randint(1, 11, size=(4, 4))\n",
    "\n",
    "# Display the values of the matrices\n",
    "print(\"Matrix 1:\")\n",
    "print(matrix1)\n",
    "print(\"\\nMatrix 2:\")\n",
    "print(matrix2)\n",
    "\n",
    "# Find the difference between the matrices\n",
    "difference = matrix1 - matrix2\n",
    "\n",
    "# Display the difference between the matrices\n",
    "print(\"\\nDifference between the two matrices:\")\n",
    "print(difference)\n"
   ]
  },
  {
   "cell_type": "code",
   "execution_count": 16,
   "metadata": {},
   "outputs": [
    {
     "name": "stdout",
     "output_type": "stream",
     "text": [
      "Matrix:\n",
      "[[0.25015466 0.67468482 0.09551885]\n",
      " [0.41381734 0.06550633 0.62924244]\n",
      " [0.10825528 0.08793367 0.76523292]]\n",
      "\n",
      "Column vector containing the sum of elements of each row:\n",
      "[1.02035833 1.10856611 0.96142188]\n"
     ]
    }
   ],
   "source": [
    "import numpy as np\n",
    "\n",
    "# Create a 3x3 matrix filled with random floating-point numbers ranging from 0 to 1\n",
    "matrix = np.random.rand(3, 3)\n",
    "\n",
    "# Display the values of the matrix\n",
    "print(\"Matrix:\")\n",
    "print(matrix)\n",
    "\n",
    "# Calculate the column vector containing the sum of elements of each row\n",
    "column_vector = np.sum(matrix, axis=1)\n",
    "\n",
    "# Display the column vector\n",
    "print(\"\\nColumn vector containing the sum of elements of each row:\")\n",
    "print(column_vector)\n"
   ]
  },
  {
   "cell_type": "code",
   "execution_count": 17,
   "metadata": {},
   "outputs": [
    {
     "name": "stdout",
     "output_type": "stream",
     "text": [
      "Macierz pierwotna:\n",
      "[[6 9 8 9]\n",
      " [7 2 2 4]\n",
      " [9 1 7 2]]\n",
      "\n",
      "Macierz z kwadratami liczb:\n",
      "[[36 81 64 81]\n",
      " [49  4  4 16]\n",
      " [81  1 49  4]]\n"
     ]
    }
   ],
   "source": [
    "import numpy as np\n",
    "\n",
    "# Utworzenie macierzy o rozmiarze 3x4 z dowolnymi liczbami całkowitymi\n",
    "macierz = np.random.randint(1, 10, size=(3, 4))\n",
    "\n",
    "# Utworzenie macierzy zawierającej kwadraty liczb z macierzy pierwotnej\n",
    "macierz_kwadratow = np.square(macierz)\n",
    "\n",
    "# Wyświetlenie wartości obu macierzy\n",
    "print(\"Macierz pierwotna:\")\n",
    "print(macierz)\n",
    "\n",
    "print(\"\\nMacierz z kwadratami liczb:\")\n",
    "print(macierz_kwadratow)\n"
   ]
  },
  {
   "cell_type": "code",
   "execution_count": 18,
   "metadata": {},
   "outputs": [
    {
     "name": "stdout",
     "output_type": "stream",
     "text": [
      "Wektor:\n",
      "[22 15 21  9]\n",
      "\n",
      "Pierwiastki kwadratowe z elementów wektora:\n",
      "[4.69041576 3.87298335 4.58257569 3.        ]\n"
     ]
    }
   ],
   "source": [
    "import numpy as np\n",
    "\n",
    "# Utworzenie wektora o rozmiarze 4 z losowymi liczbami całkowitymi z zakresu od 1 do 50\n",
    "wektor = np.random.randint(1, 51, size=4)\n",
    "\n",
    "# Znalezienie pierwiastków kwadratowych z elementów wektora\n",
    "pierwiastki_kwadratowe = np.sqrt(wektor)\n",
    "\n",
    "# Wyświetlenie wartości wektora oraz jego pierwiastków kwadratowych\n",
    "print(\"Wektor:\")\n",
    "print(wektor)\n",
    "\n",
    "print(\"\\nPierwiastki kwadratowe z elementów wektora:\")\n",
    "print(pierwiastki_kwadratowe)\n"
   ]
  }
 ],
 "metadata": {
  "kernelspec": {
   "display_name": "Python 3",
   "language": "python",
   "name": "python3"
  },
  "language_info": {
   "codemirror_mode": {
    "name": "ipython",
    "version": 3
   },
   "file_extension": ".py",
   "mimetype": "text/x-python",
   "name": "python",
   "nbconvert_exporter": "python",
   "pygments_lexer": "ipython3",
   "version": "3.12.1"
  }
 },
 "nbformat": 4,
 "nbformat_minor": 2
}
