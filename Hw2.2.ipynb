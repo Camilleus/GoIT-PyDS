{
 "cells": [
  {
   "cell_type": "code",
   "execution_count": null,
   "metadata": {},
   "outputs": [],
   "source": [
    "import pandas as pd\n",
    "\n",
    "# Step 1: Read the CSV File\n",
    "url = \"https://drive.google.com/uc?id=1JMYqXipZpz9Y5-vyxvLEO2Y1sRBxqu-U\"\n",
    "data = pd.read_csv(url)\n",
    "\n",
    "# Step 2: Display the First Few Rows\n",
    "print(\"First few rows of the DataFrame:\")\n",
    "print(data.head())"
   ]
  }
 ],
 "metadata": {
  "language_info": {
   "name": "python"
  }
 },
 "nbformat": 4,
 "nbformat_minor": 2
}
